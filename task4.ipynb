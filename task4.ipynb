{
 "cells": [
  {
   "cell_type": "code",
   "execution_count": 1,
   "metadata": {},
   "outputs": [],
   "source": [
    "import cv2 ,numpy,matplotlib.pyplot as plt"
   ]
  },
  {
   "cell_type": "code",
   "execution_count": 2,
   "metadata": {},
   "outputs": [],
   "source": [
    "#Task 4.1 to create image using python code"
   ]
  },
  {
   "cell_type": "code",
   "execution_count": 3,
   "metadata": {},
   "outputs": [],
   "source": [
    "#here numpy.zeros create a 750*750 pixels 3d image with black color\n",
    "myimage = numpy.zeros((750,750,3),numpy.uint8)\n",
    "#here we are applying red ,blue,green colors to our image\n",
    "myimage[:250,:750]=(0,0,255)\n",
    "myimage[250:500,:750]=(0,255,0)\n",
    "myimage[500:,:750]=(255,0,0)\n",
    "#the below code is used to open,wait and close our created image\n",
    "cv2.imshow(\"myimage\",myimage)\n",
    "cv2.waitKey()\n",
    "cv2.destroyAllWindows()"
   ]
  },
  {
   "cell_type": "code",
   "execution_count": null,
   "metadata": {},
   "outputs": [],
   "source": []
  },
  {
   "cell_type": "code",
   "execution_count": 107,
   "metadata": {},
   "outputs": [],
   "source": [
    "#Task 4.2 to crop and swap the image"
   ]
  },
  {
   "cell_type": "code",
   "execution_count": 108,
   "metadata": {},
   "outputs": [],
   "source": [
    "#here we are importing image using imread command\n",
    "ironman = cv2.imread('ironman.jpg')\n",
    "#we are cropping part of ironman image\n",
    "crop_image = ironman[:150,200:320]\n",
    "#to display the crop_part\n",
    "cv2.imshow(\"iron_man\",crop_image)\n",
    "cv2.waitKey()\n",
    "cv2.destroyAllWindows()"
   ]
  },
  {
   "cell_type": "code",
   "execution_count": 109,
   "metadata": {},
   "outputs": [],
   "source": [
    "#we are importing spider man image and crop the image and the swap the image\n",
    "spiderman = cv2.imread('spiderman.png')\n",
    "crop_image2 = spiderman[:187,185:315]\n",
    "spiderman[:150,200:320] = crop_image\n",
    "cv2.imshow(\"spider_man\",spiderman)\n",
    "cv2.waitKey()\n",
    "cv2.destroyAllWindows()"
   ]
  },
  {
   "cell_type": "code",
   "execution_count": 5,
   "metadata": {},
   "outputs": [],
   "source": [
    "#Task4.3 combine two images"
   ]
  },
  {
   "cell_type": "code",
   "execution_count": 6,
   "metadata": {},
   "outputs": [],
   "source": [
    "image1 = cv2.imread(\"lexus.jpg\")\n",
    "image2 = cv2.imread(\"mustang\")"
   ]
  },
  {
   "cell_type": "code",
   "execution_count": 7,
   "metadata": {},
   "outputs": [],
   "source": [
    "#adding to images horizontally\n",
    "collage1 = numpy.hstack((image2,image1))\n",
    "cv2.imshow(\"my_collage\",collage1)\n",
    "cv2.waitKey()\n",
    "cv2.destroyAllWindows()\n"
   ]
  },
  {
   "cell_type": "code",
   "execution_count": 8,
   "metadata": {},
   "outputs": [],
   "source": [
    "#adding two images vertically\n",
    "collage2 = numpy.vstack((image2,image1))\n",
    "cv2.imshow(\"my_collage\",collage2)\n",
    "cv2.waitKey()\n",
    "cv2.destroyAllWindows()\n"
   ]
  },
  {
   "cell_type": "code",
   "execution_count": null,
   "metadata": {},
   "outputs": [],
   "source": []
  }
 ],
 "metadata": {
  "kernelspec": {
   "display_name": "Python 3",
   "language": "python",
   "name": "python3"
  },
  "language_info": {
   "codemirror_mode": {
    "name": "ipython",
    "version": 3
   },
   "file_extension": ".py",
   "mimetype": "text/x-python",
   "name": "python",
   "nbconvert_exporter": "python",
   "pygments_lexer": "ipython3",
   "version": "3.8.5"
  }
 },
 "nbformat": 4,
 "nbformat_minor": 4
}
